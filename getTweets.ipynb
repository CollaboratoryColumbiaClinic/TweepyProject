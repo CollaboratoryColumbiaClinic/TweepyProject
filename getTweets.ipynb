{
 "cells": [
  {
   "cell_type": "code",
   "execution_count": 3,
   "metadata": {
    "collapsed": false
   },
   "outputs": [],
   "source": [
    "import json\n",
    "import os\n",
    "import pandas as pd"
   ]
  },
  {
   "cell_type": "code",
   "execution_count": 28,
   "metadata": {
    "collapsed": false
   },
   "outputs": [
    {
     "name": "stdout",
     "output_type": "stream",
     "text": [
      "['gizou10.json', 'NadineLabaki.json', 'SinioraFuad.json']\n"
     ]
    }
   ],
   "source": [
    "dire = os.getcwd()\n",
    "mypath = os.path.join(dire,'sourcedata')\n",
    "onlyfiles = [f for f in os.listdir(mypath) if os.path.isfile(os.path.join(mypath, f))][1:]\n",
    "#onlyfiles = [f for f in os.listdir(mypath) if os.path.isfile(os.path.join(mypath, f))]\n",
    "print onlyfiles"
   ]
  },
  {
   "cell_type": "code",
   "execution_count": 30,
   "metadata": {
    "collapsed": false
   },
   "outputs": [
    {
     "name": "stdout",
     "output_type": "stream",
     "text": [
      "['/Users/yitongxu/Desktop/ComputerSys/HW5/sourcedata/gizou10.json', '/Users/yitongxu/Desktop/ComputerSys/HW5/sourcedata/NadineLabaki.json', '/Users/yitongxu/Desktop/ComputerSys/HW5/sourcedata/SinioraFuad.json']\n"
     ]
    }
   ],
   "source": [
    "file_path = [os.path.join(mypath,myfile) for myfile in onlyfiles]\n",
    "print file_path"
   ]
  },
  {
   "cell_type": "code",
   "execution_count": 38,
   "metadata": {
    "collapsed": false
   },
   "outputs": [
    {
     "name": "stdout",
     "output_type": "stream",
     "text": [
      "[u'contributors', u'truncated', u'text', u'is_quote_status', u'in_reply_to_status_id', u'id', u'favorite_count', u'source', u'retweeted', u'coordinates', u'entities', u'in_reply_to_screen_name', u'id_str', u'retweet_count', u'in_reply_to_user_id', u'favorited', u'retweeted_status', u'user', u'geo', u'in_reply_to_user_id_str', u'possibly_sensitive', u'lang', u'created_at', u'in_reply_to_status_id_str', u'place', u'extended_entities']\n"
     ]
    }
   ],
   "source": [
    "with open(file_path[0]) as f:\n",
    "    data = json.load(f)\n",
    "    keys = data[0].keys()"
   ]
  },
  {
   "cell_type": "code",
   "execution_count": 14,
   "metadata": {
    "collapsed": false
   },
   "outputs": [
    {
     "data": {
      "text/plain": [
       "['contributors',\n",
       " 'truncated',\n",
       " 'text',\n",
       " 'is_quote_status',\n",
       " 'in_reply_to_status_id',\n",
       " 'id',\n",
       " 'favorite_count',\n",
       " 'source',\n",
       " 'retweeted',\n",
       " 'coordinates',\n",
       " 'entities',\n",
       " 'in_reply_to_screen_name',\n",
       " 'id_str',\n",
       " 'retweet_count',\n",
       " 'in_reply_to_user_id',\n",
       " 'favorited',\n",
       " 'retweeted_status',\n",
       " 'user',\n",
       " 'geo',\n",
       " 'in_reply_to_user_id_str',\n",
       " 'possibly_sensitive',\n",
       " 'lang',\n",
       " 'created_at',\n",
       " 'in_reply_to_status_id_str',\n",
       " 'place',\n",
       " 'extended_entities']"
      ]
     },
     "execution_count": 14,
     "metadata": {},
     "output_type": "execute_result"
    }
   ],
   "source": [
    "[key.encode('utf-8') for key in keys] ## list of all the keys here "
   ]
  },
  {
   "cell_type": "code",
   "execution_count": 9,
   "metadata": {
    "collapsed": true
   },
   "outputs": [],
   "source": [
    "df = pd.read_json(file_path[0]) ## you can change index to be 0, 1, 2 for ['gizou10.json', 'NadineLabaki.json', 'SinioraFuad.json']"
   ]
  },
  {
   "cell_type": "code",
   "execution_count": 39,
   "metadata": {
    "collapsed": false
   },
   "outputs": [
    {
     "data": {
      "text/html": [
       "<div>\n",
       "<table border=\"1\" class=\"dataframe\">\n",
       "  <thead>\n",
       "    <tr style=\"text-align: right;\">\n",
       "      <th></th>\n",
       "      <th>contributors</th>\n",
       "      <th>coordinates</th>\n",
       "      <th>created_at</th>\n",
       "      <th>entities</th>\n",
       "      <th>extended_entities</th>\n",
       "      <th>favorite_count</th>\n",
       "      <th>favorited</th>\n",
       "      <th>geo</th>\n",
       "      <th>id</th>\n",
       "      <th>id_str</th>\n",
       "      <th>...</th>\n",
       "      <th>quoted_status</th>\n",
       "      <th>quoted_status_id</th>\n",
       "      <th>quoted_status_id_str</th>\n",
       "      <th>retweet_count</th>\n",
       "      <th>retweeted</th>\n",
       "      <th>retweeted_status</th>\n",
       "      <th>source</th>\n",
       "      <th>text</th>\n",
       "      <th>truncated</th>\n",
       "      <th>user</th>\n",
       "    </tr>\n",
       "  </thead>\n",
       "  <tbody>\n",
       "    <tr>\n",
       "      <th>0</th>\n",
       "      <td>NaN</td>\n",
       "      <td>None</td>\n",
       "      <td>2017-03-26 22:10:57</td>\n",
       "      <td>{u'symbols': [], u'user_mentions': [{u'indices...</td>\n",
       "      <td>{u'media': [{u'source_user_id': 1215095190, u'...</td>\n",
       "      <td>0</td>\n",
       "      <td>False</td>\n",
       "      <td>None</td>\n",
       "      <td>846122325930102794</td>\n",
       "      <td>846122325930102784</td>\n",
       "      <td>...</td>\n",
       "      <td>NaN</td>\n",
       "      <td>NaN</td>\n",
       "      <td>NaN</td>\n",
       "      <td>2</td>\n",
       "      <td>False</td>\n",
       "      <td>{u'contributors': None, u'truncated': False, u...</td>\n",
       "      <td>&lt;a href=\"http://twitter.com/download/iphone\" r...</td>\n",
       "      <td>RT @RoyalMuseumJo: وصول ضيوف المتحف وفِي الاست...</td>\n",
       "      <td>False</td>\n",
       "      <td>{u'follow_request_sent': False, u'has_extended...</td>\n",
       "    </tr>\n",
       "    <tr>\n",
       "      <th>1</th>\n",
       "      <td>NaN</td>\n",
       "      <td>None</td>\n",
       "      <td>2017-03-26 21:26:10</td>\n",
       "      <td>{u'symbols': [], u'user_mentions': [], u'hasht...</td>\n",
       "      <td>{u'media': [{u'expanded_url': u'https://twitte...</td>\n",
       "      <td>5</td>\n",
       "      <td>False</td>\n",
       "      <td>None</td>\n",
       "      <td>846111058322448384</td>\n",
       "      <td>846111058322448384</td>\n",
       "      <td>...</td>\n",
       "      <td>NaN</td>\n",
       "      <td>NaN</td>\n",
       "      <td>NaN</td>\n",
       "      <td>3</td>\n",
       "      <td>False</td>\n",
       "      <td>NaN</td>\n",
       "      <td>&lt;a href=\"http://twitter.com/download/iphone\" r...</td>\n",
       "      <td>King Hussein was in this plane when Syrian reg...</td>\n",
       "      <td>False</td>\n",
       "      <td>{u'follow_request_sent': False, u'has_extended...</td>\n",
       "    </tr>\n",
       "    <tr>\n",
       "      <th>2</th>\n",
       "      <td>NaN</td>\n",
       "      <td>None</td>\n",
       "      <td>2017-03-25 15:24:35</td>\n",
       "      <td>{u'symbols': [], u'user_mentions': [{u'indices...</td>\n",
       "      <td>NaN</td>\n",
       "      <td>0</td>\n",
       "      <td>False</td>\n",
       "      <td>None</td>\n",
       "      <td>845657672426885120</td>\n",
       "      <td>845657672426885120</td>\n",
       "      <td>...</td>\n",
       "      <td>NaN</td>\n",
       "      <td>NaN</td>\n",
       "      <td>NaN</td>\n",
       "      <td>5</td>\n",
       "      <td>False</td>\n",
       "      <td>{u'contributors': None, u'truncated': True, u'...</td>\n",
       "      <td>&lt;a href=\"http://twitter.com/download/iphone\" r...</td>\n",
       "      <td>RT @SK_Eyes: دفاعاً عن حرية التعبير: للإفراج ع...</td>\n",
       "      <td>False</td>\n",
       "      <td>{u'follow_request_sent': False, u'has_extended...</td>\n",
       "    </tr>\n",
       "    <tr>\n",
       "      <th>3</th>\n",
       "      <td>NaN</td>\n",
       "      <td>None</td>\n",
       "      <td>2017-03-24 22:37:48</td>\n",
       "      <td>{u'symbols': [], u'user_mentions': [{u'indices...</td>\n",
       "      <td>{u'media': [{u'source_user_id': 471941936, u's...</td>\n",
       "      <td>0</td>\n",
       "      <td>False</td>\n",
       "      <td>None</td>\n",
       "      <td>845404306719301632</td>\n",
       "      <td>845404306719301632</td>\n",
       "      <td>...</td>\n",
       "      <td>NaN</td>\n",
       "      <td>NaN</td>\n",
       "      <td>NaN</td>\n",
       "      <td>12</td>\n",
       "      <td>False</td>\n",
       "      <td>{u'contributors': None, u'truncated': False, u...</td>\n",
       "      <td>&lt;a href=\"http://twitter.com/download/iphone\" r...</td>\n",
       "      <td>RT @RanaKabbani54: What you can take on flight...</td>\n",
       "      <td>False</td>\n",
       "      <td>{u'follow_request_sent': False, u'has_extended...</td>\n",
       "    </tr>\n",
       "    <tr>\n",
       "      <th>4</th>\n",
       "      <td>NaN</td>\n",
       "      <td>None</td>\n",
       "      <td>2017-03-24 12:55:10</td>\n",
       "      <td>{u'symbols': [], u'user_mentions': [{u'indices...</td>\n",
       "      <td>{u'media': [{u'source_user_id': 2493170316, u'...</td>\n",
       "      <td>0</td>\n",
       "      <td>False</td>\n",
       "      <td>None</td>\n",
       "      <td>845257685310361600</td>\n",
       "      <td>845257685310361600</td>\n",
       "      <td>...</td>\n",
       "      <td>NaN</td>\n",
       "      <td>NaN</td>\n",
       "      <td>NaN</td>\n",
       "      <td>1</td>\n",
       "      <td>False</td>\n",
       "      <td>{u'contributors': None, u'truncated': False, u...</td>\n",
       "      <td>&lt;a href=\"http://twitter.com/download/iphone\" r...</td>\n",
       "      <td>RT @BBCAlmashhad: الكاتب المصري/الفرنسي روبرت ...</td>\n",
       "      <td>False</td>\n",
       "      <td>{u'follow_request_sent': False, u'has_extended...</td>\n",
       "    </tr>\n",
       "  </tbody>\n",
       "</table>\n",
       "<p>5 rows × 29 columns</p>\n",
       "</div>"
      ],
      "text/plain": [
       "   contributors coordinates          created_at  \\\n",
       "0           NaN        None 2017-03-26 22:10:57   \n",
       "1           NaN        None 2017-03-26 21:26:10   \n",
       "2           NaN        None 2017-03-25 15:24:35   \n",
       "3           NaN        None 2017-03-24 22:37:48   \n",
       "4           NaN        None 2017-03-24 12:55:10   \n",
       "\n",
       "                                            entities  \\\n",
       "0  {u'symbols': [], u'user_mentions': [{u'indices...   \n",
       "1  {u'symbols': [], u'user_mentions': [], u'hasht...   \n",
       "2  {u'symbols': [], u'user_mentions': [{u'indices...   \n",
       "3  {u'symbols': [], u'user_mentions': [{u'indices...   \n",
       "4  {u'symbols': [], u'user_mentions': [{u'indices...   \n",
       "\n",
       "                                   extended_entities  favorite_count  \\\n",
       "0  {u'media': [{u'source_user_id': 1215095190, u'...               0   \n",
       "1  {u'media': [{u'expanded_url': u'https://twitte...               5   \n",
       "2                                                NaN               0   \n",
       "3  {u'media': [{u'source_user_id': 471941936, u's...               0   \n",
       "4  {u'media': [{u'source_user_id': 2493170316, u'...               0   \n",
       "\n",
       "  favorited   geo                  id              id_str  \\\n",
       "0     False  None  846122325930102794  846122325930102784   \n",
       "1     False  None  846111058322448384  846111058322448384   \n",
       "2     False  None  845657672426885120  845657672426885120   \n",
       "3     False  None  845404306719301632  845404306719301632   \n",
       "4     False  None  845257685310361600  845257685310361600   \n",
       "\n",
       "                         ...                         quoted_status  \\\n",
       "0                        ...                                   NaN   \n",
       "1                        ...                                   NaN   \n",
       "2                        ...                                   NaN   \n",
       "3                        ...                                   NaN   \n",
       "4                        ...                                   NaN   \n",
       "\n",
       "   quoted_status_id  quoted_status_id_str  retweet_count  retweeted  \\\n",
       "0               NaN                   NaN              2      False   \n",
       "1               NaN                   NaN              3      False   \n",
       "2               NaN                   NaN              5      False   \n",
       "3               NaN                   NaN             12      False   \n",
       "4               NaN                   NaN              1      False   \n",
       "\n",
       "                                    retweeted_status  \\\n",
       "0  {u'contributors': None, u'truncated': False, u...   \n",
       "1                                                NaN   \n",
       "2  {u'contributors': None, u'truncated': True, u'...   \n",
       "3  {u'contributors': None, u'truncated': False, u...   \n",
       "4  {u'contributors': None, u'truncated': False, u...   \n",
       "\n",
       "                                              source  \\\n",
       "0  <a href=\"http://twitter.com/download/iphone\" r...   \n",
       "1  <a href=\"http://twitter.com/download/iphone\" r...   \n",
       "2  <a href=\"http://twitter.com/download/iphone\" r...   \n",
       "3  <a href=\"http://twitter.com/download/iphone\" r...   \n",
       "4  <a href=\"http://twitter.com/download/iphone\" r...   \n",
       "\n",
       "                                                text  truncated  \\\n",
       "0  RT @RoyalMuseumJo: وصول ضيوف المتحف وفِي الاست...      False   \n",
       "1  King Hussein was in this plane when Syrian reg...      False   \n",
       "2  RT @SK_Eyes: دفاعاً عن حرية التعبير: للإفراج ع...      False   \n",
       "3  RT @RanaKabbani54: What you can take on flight...      False   \n",
       "4  RT @BBCAlmashhad: الكاتب المصري/الفرنسي روبرت ...      False   \n",
       "\n",
       "                                                user  \n",
       "0  {u'follow_request_sent': False, u'has_extended...  \n",
       "1  {u'follow_request_sent': False, u'has_extended...  \n",
       "2  {u'follow_request_sent': False, u'has_extended...  \n",
       "3  {u'follow_request_sent': False, u'has_extended...  \n",
       "4  {u'follow_request_sent': False, u'has_extended...  \n",
       "\n",
       "[5 rows x 29 columns]"
      ]
     },
     "execution_count": 39,
     "metadata": {},
     "output_type": "execute_result"
    }
   ],
   "source": [
    "df.head() ## take a look at the data here, it will return the first few lines"
   ]
  },
  {
   "cell_type": "code",
   "execution_count": 15,
   "metadata": {
    "collapsed": false
   },
   "outputs": [
    {
     "data": {
      "text/plain": [
       "0       RT @RoyalMuseumJo: وصول ضيوف المتحف وفِي الاست...\n",
       "1       King Hussein was in this plane when Syrian reg...\n",
       "2       RT @SK_Eyes: دفاعاً عن حرية التعبير: للإفراج ع...\n",
       "3       RT @RanaKabbani54: What you can take on flight...\n",
       "4       RT @BBCAlmashhad: الكاتب المصري/الفرنسي روبرت ...\n",
       "5       RT @SK_Eyes: . مُخرج فيلم \"بيت البحر\" @RoyDib0...\n",
       "6       RT @SK_Eyes: مكتب مكافحة جرائم المعلوماتية يحت...\n",
       "7       RT @yeh1a: UK bans electronic devices on fligh...\n",
       "8       RT @SK_Eyes: #الشرطة_الإسرائيلية تعتقل الصحافي...\n",
       "9       RT @giovanigianluca: @gizou10 🌹❤️ unique beau...\n",
       "10      RT @BBCAlmashhad: من خطف سميرة، زوجة ياسين الح...\n",
       "11      RT @saadhariri: ادعو منظمي التظاهرة الى تشكيل ...\n",
       "12      RT @BBCAlmashhad: المشهد يستعيد بدء الأحداث في...\n",
       "13      RT @BBCAlmashhad: ريما خلف تستقيل من الامم الم...\n",
       "14      كوميديا موقف في التلفزيون الأردني… وسيدات يثري...\n",
       "15      RT @SusanSarandon: If you watch one thing toda...\n",
       "16      RT @SK_Eyes: انتهاكات الحريات الاعلامية والثقا...\n",
       "17      RT @CFImedias: #YouthMediaForum What do young ...\n",
       "18      RT @SK_Eyes: 80 young people from southern Med...\n",
       "19      RT @EUinLebanon: هناك ضرورة لتحديث الوسائل الإ...\n",
       "20      RT @SK_Eyes: Ambassador Lassen @EUAmbLebanon o...\n",
       "21      RT @BBCAlmashhad: المشهد مع جواد الأسدي\\nالإعا...\n",
       "22      RT @BBCAlmashhad: كيف وجد العراق وناسها بعد عو...\n",
       "23                   ١٤ آذار ٢٠٠٥ https://t.co/DWFDibeKD2\n",
       "24      RT @SK_Eyes: لحظات \"مأساوية\" لطاقم \" #سكاي_نيو...\n",
       "25      RT @SubhiHadidi: يخضور محمود درويش، في مترو لن...\n",
       "26      RT @giovanigianluca: @gizou10 🌹❤️ definition ...\n",
       "27      كلام طلابي في السياسة يدل على جهل مخيف. مثلا :...\n",
       "28      الرسام العالمي للكاريكاتور في جامعة الانطونيين...\n",
       "29      RT @BBCAlmashhad: حاول الأميركيون عام 2003 احي...\n",
       "                              ...                        \n",
       "1418    RT @SK_Eyes: Israeli Soldiers Prevents Journal...\n",
       "1419    RT @SK_Eyes: Jordanian Journalists Demand Prob...\n",
       "1420    RT @AlArabiya_Brk: أنباء عن انشقاق جنود معهم 8...\n",
       "1421    RT @SultanAlQassemi: BBC World News correspond...\n",
       "1422    RT @Reuters: Syrian assault on Homs kills 50: ...\n",
       "1423    سهير اتاسي ل ستوديو بيروت : رستم غزالي استدعان...\n",
       "1424    watch tonight Suheir Attassi in \"studio Beirut...\n",
       "1425    RT @Reuters: Against Syrian anger, Assad's sec...\n",
       "1426    RT @SK_Eyes: نسيب لحود .. في ذمّة الله http://...\n",
       "1427    RT @SultanAlQassemi: Al Arabiya GM writes \"We ...\n",
       "1428    اعتقال المدون السوري محمد غازي كناص في دمشق | ...\n",
       "1429                        @AymanHsafadi wine in Beirut.\n",
       "1430    @nadinemasri very honest! it is obvious he doe...\n",
       "1431                         Gizou10 http://t.co/q3i3dWYS\n",
       "1432    RT @SultanAlQassemi: What it Will Take to Inte...\n",
       "1433    الياس خوري لستوديو بيروت: لا نقبل بكلمة مثل ال...\n",
       "1434    RT @SK_Eyes: صور المؤتمر السنوي الثاني لمركز \"...\n",
       "1435    RT @AlArabiya_shows: إلى أين تتجه الثورة السور...\n",
       "1436    RT @AlArabiya_shows: كيف يرى المثقفون العرب ال...\n",
       "1437    RT @SK_Eyes: Syrian Activist Faten Rajab Fawaz...\n",
       "1438    RT @SK_Eyes: Syrian Journalist Amer Matar Rele...\n",
       "1439    do you have any question for the novelist Elia...\n",
       "1440    RT @AlArabiya_shows: كيف نأى لبنان بنفسه في ال...\n",
       "1441    RT @SK_Eyes: Syrian Blogger Tal Al-Melouhi on ...\n",
       "1442    فلتمان للعربية : على الاسد ان يتنحى وان يؤمن ا...\n",
       "1443    RT @SK_Eyes: Sham FM Correspondent in Homs Res...\n",
       "1444       ستوديو بيروت: وليد جنبلاط http://t.co/ZlyrKmSO\n",
       "1445       ستوديو بيروت: وليد جنبلاط http://t.co/ZlyrKmSO\n",
       "1446       ستوديو بيروت: عقيل الهاشم http://t.co/nTskXwGy\n",
       "1447                                  http://t.co/cBmCPyY\n",
       "Name: text, dtype: object"
      ]
     },
     "execution_count": 15,
     "metadata": {},
     "output_type": "execute_result"
    }
   ],
   "source": [
    "df['text'] ## here is an example of how you can access the content\n",
    "           ## you can specify want you want in the single quotes, the columns label are print above"
   ]
  },
  {
   "cell_type": "code",
   "execution_count": null,
   "metadata": {
    "collapsed": true
   },
   "outputs": [],
   "source": []
  }
 ],
 "metadata": {
  "anaconda-cloud": {},
  "kernelspec": {
   "display_name": "Python [Root]",
   "language": "python",
   "name": "Python [Root]"
  },
  "language_info": {
   "codemirror_mode": {
    "name": "ipython",
    "version": 2
   },
   "file_extension": ".py",
   "mimetype": "text/x-python",
   "name": "python",
   "nbconvert_exporter": "python",
   "pygments_lexer": "ipython2",
   "version": "2.7.12"
  }
 },
 "nbformat": 4,
 "nbformat_minor": 0
}
